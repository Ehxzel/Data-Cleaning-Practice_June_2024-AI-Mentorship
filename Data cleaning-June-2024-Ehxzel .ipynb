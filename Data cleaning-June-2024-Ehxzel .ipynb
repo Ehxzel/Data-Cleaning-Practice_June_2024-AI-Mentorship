{
 "cells": [
  {
   "cell_type": "code",
   "execution_count": 107,
   "id": "191920f0-9621-4f5d-9c49-2146246d46c4",
   "metadata": {},
   "outputs": [
    {
     "name": "stdout",
     "output_type": "stream",
     "text": [
      "1      38.0\n",
      "3      35.0\n",
      "6      54.0\n",
      "10      4.0\n",
      "11     58.0\n",
      "       ... \n",
      "871    47.0\n",
      "872    33.0\n",
      "879    56.0\n",
      "887    19.0\n",
      "889    26.0\n",
      "Name: Age, Length: 183, dtype: float64\n"
     ]
    }
   ],
   "source": [
    "#Handling Missing Values in TITANIC DATASET using Droprows\n",
    "import pandas as pd\n",
    "\n",
    "#loading the Dataset\n",
    "titanic = pd.read_csv(\"Titanic-Dataset.csv\")\n",
    "titanic.dropna(inplace = True)\n",
    "#print(titanic.head())\n",
    "print(titanic.Age)"
   ]
  },
  {
   "cell_type": "code",
   "execution_count": 109,
   "id": "150fed0a-d1e3-40d5-9630-7ba18ad02a7a",
   "metadata": {},
   "outputs": [
    {
     "name": "stdin",
     "output_type": "stream",
     "text": [
      "Enter Column Name with Duplicates:  education.num\n"
     ]
    },
    {
     "name": "stdout",
     "output_type": "stream",
     "text": [
      "Cleaned: newDataFrame saved...\n"
     ]
    }
   ],
   "source": [
    "#Here is a Python script using pandas to remove duplicates from a dataset named \"adult.csv\":\n",
    "\n",
    "import pandas as pd\n",
    "\n",
    "# Load the dataset\n",
    "df = pd.read_csv(\"adult.csv\")\n",
    "\n",
    "#Specify the Particular Column to remove Duplicates\n",
    "col_name = input(\"Enter Column Name with Duplicates: \")# Input should be ColNames with Numrical Values(e.g age). Input was for interactivity with the Program\n",
    "\n",
    "\n",
    "#df = df.drop_duplicates(subset = [col_name], inplace = True)\n",
    "\n",
    "# Remove duplicates in specified column and store results in new DataFrame\n",
    "clean_data = df.drop_duplicates(subset = [col_name])\n",
    "\n",
    "\n",
    "\n",
    "\n",
    "# Save the cleaned dataset\n",
    "clean_data.to_csv(\"clean_data_adult.csv\", index=False)\n",
    "print(\"Cleaned: newDataFrame saved...\")"
   ]
  },
  {
   "cell_type": "code",
   "execution_count": 72,
   "id": "90f8feea-087a-4f08-981c-2f2521cdd3f1",
   "metadata": {},
   "outputs": [
    {
     "name": "stdin",
     "output_type": "stream",
     "text": [
      "How many Columns do you want to convert:  1\n",
      "Enter Column(s) name#1:  id\n"
     ]
    },
    {
     "name": "stdout",
     "output_type": "stream",
     "text": [
      "['id']\n",
      "id    int64\n",
      "dtype: object\n"
     ]
    }
   ],
   "source": [
    "#Converting DataTypes in AB_NYC_2019 DATASET (RealEstate DataSet)\n",
    "\n",
    "import pandas as pd\n",
    "\n",
    "#loading the Dataset\n",
    "real = pd.read_csv(\"AB_NYC_2019.csv\")\n",
    "#Creating a loop for  converting multiple Columns\n",
    "EntryList = []\n",
    "conv = int(input(\"How many Columns do you want to convert: \"))\n",
    "for i in range(conv):  # write the function to perform the operation on the list of columns\n",
    "    entry = input(f\"Enter Column(s) name#{i+1}: \")\n",
    "    EntryList.append(entry)\n",
    "\n",
    "print(EntryList)\n",
    "# printing all the Columns in the DataSet\n",
    "#cols = realEs.columns.tolist()\n",
    "#print(cols)\n",
    "'''AVAILABLE COLUMNS['id', 'name', 'host_id', 'host_name', 'neighbourhood_group', 'neighbourhood', 'latitude', 'longitude', 'room_type', 'price', 'minimum_nights', \n",
    " 'number_of_reviews', 'last_review', 'reviews_per_month', 'calculated_host_listings_count', 'availability_365']'''\n",
    "real[EntryList] = real[EntryList].apply(pd.to_numeric)\n",
    "morph = real[EntryList]\n",
    "print(morph.dtypes)\n",
    "#Omo I don tire :(\n",
    "#print(realEstate.head())"
   ]
  },
  {
   "cell_type": "code",
   "execution_count": 115,
   "id": "daacf42e-658a-4d2a-a712-b3b856a72bba",
   "metadata": {},
   "outputs": [
    {
     "name": "stdout",
     "output_type": "stream",
     "text": [
      "   PassengerId  Survived  Pclass  \\\n",
      "0            1         0       3   \n",
      "1            2         1       1   \n",
      "2            3         1       3   \n",
      "3            4         1       1   \n",
      "4            5         0       3   \n",
      "\n",
      "                                                Name  Sex   Age  SibSp  Parch  \\\n",
      "0                            Braund, Mr. Owen Harris    1  22.0      1      0   \n",
      "1  Cumings, Mrs. John Bradley (Florence Briggs Th...    0  38.0      1      0   \n",
      "2                             Heikkinen, Miss. Laina    0  26.0      0      0   \n",
      "3       Futrelle, Mrs. Jacques Heath (Lily May Peel)    0  35.0      1      0   \n",
      "4                           Allen, Mr. William Henry    1  35.0      0      0   \n",
      "\n",
      "             Ticket     Fare  Cabin  Embarked  \n",
      "0         A/5 21171   7.2500    147         2  \n",
      "1          PC 17599  71.2833     81         0  \n",
      "2  STON/O2. 3101282   7.9250    147         2  \n",
      "3            113803  53.1000     55         2  \n",
      "4            373450   8.0500    147         2  \n"
     ]
    }
   ],
   "source": [
    "#Handlinig Categorical Variables using LabelEncoding\n",
    "'''So basically, we encode specific catergorical variables so as to make them meaningful to the ML module and useful for calculations'''\n",
    "#Lets Code.....\n",
    "from sklearn.preprocessing import LabelEncoder\n",
    "import pandas as pd\n",
    "#loading dataset\n",
    "titan = pd.read_csv(\"Titanic-Dataset.csv\")\n",
    "#Calling the right columns\n",
    "titan_columns =[\"Sex\", \"Cabin\", \"Embarked\"]\n",
    "#load label encoder\n",
    "le = LabelEncoder()\n",
    "#Label encoder looping through our container\n",
    "for col in titan_columns:\n",
    "    titan[col] = le.fit_transform(titan[col].astype(str))\n",
    "print(titan.head())\n"
   ]
  },
  {
   "cell_type": "code",
   "execution_count": null,
   "id": "3086c4a2-a293-480f-ae75-34e67f84fd62",
   "metadata": {},
   "outputs": [],
   "source": [
    "#Scaling Numerical Values Using TITANIC DATASET\n",
    "\n",
    "import pandas as pd\n",
    "import numpy as np\n",
    "from sklearn.preprocessing import StandardScaler\n",
    "\n",
    "#loading the Dataset (the encoded dataset)\n",
    "titanic = pd.read_csv(\"titanic_encoded.csv\")\n",
    "#Assign our target columns\n",
    "\n",
    "'''Available columns\n",
    "['id', 'name', 'host_id', 'host_name', 'neighbourhood_group', 'neighbourhood', 'latitude', 'longitude', 'room_type', 'price', \n",
    "'minimum_nights', 'number_of_reviews', 'last_review', 'reviews_per_month', 'calculated_host_listings_count', 'availability_365']\n",
    "'''\n",
    "\n",
    "EntryList = []\n",
    "conv = int(input(\"How many Columns do you want to Scale(Numeric columns only): \"))\n",
    "''' add columns that don't have binary vaues or categorical values. \n",
    "Try using cols like long. and lat., id or host_id. That should help'''\n",
    "for i in range(conv):  # write the function to perform the operation on the list of columns\n",
    "    entry = input(f\"Enter Column(s) name #{i+1}: \")\n",
    "    EntryList.append(entry)\n",
    "    \n",
    "#Let's try converting this to a numpy array\n",
    "EntryList = np.array(EntryList)\n",
    "print(EntryList)\n",
    "numeric_cols = EntryList\n",
    "# print(numeric_cols)\n",
    "# Let's scale using scaler object\n",
    "scaler = StandardScaler()\n",
    "titanic[numeric_cols] = scaler.fit_transform(titanic[numeric_cols])\n",
    "# #view the scaled dataset\n",
    "print(titanic.head())\n",
    "\n",
    "#print(titanic.head())"
   ]
  }
 ],
 "metadata": {
  "kernelspec": {
   "display_name": "Python 3 (ipykernel)",
   "language": "python",
   "name": "python3"
  },
  "language_info": {
   "codemirror_mode": {
    "name": "ipython",
    "version": 3
   },
   "file_extension": ".py",
   "mimetype": "text/x-python",
   "name": "python",
   "nbconvert_exporter": "python",
   "pygments_lexer": "ipython3",
   "version": "3.11.9"
  }
 },
 "nbformat": 4,
 "nbformat_minor": 5
}
